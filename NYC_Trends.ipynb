{
 "cells": [
  {
   "cell_type": "markdown",
   "id": "2e464469-3c95-4f84-809c-4064daaa46ac",
   "metadata": {},
   "source": [
    "Stephen"
   ]
  },
  {
   "cell_type": "code",
   "execution_count": null,
   "id": "8f1315db-2198-4d52-8256-f50896251daa",
   "metadata": {},
   "outputs": [],
   "source": []
  },
  {
   "cell_type": "markdown",
   "id": "6a083f76-bed5-4d6e-836a-a4a3c232a743",
   "metadata": {},
   "source": [
    "Jonathan"
   ]
  },
  {
   "cell_type": "code",
   "execution_count": null,
   "id": "82b877c5-e26b-442e-aa74-27d3a182f7ea",
   "metadata": {},
   "outputs": [],
   "source": []
  },
  {
   "cell_type": "markdown",
   "id": "dc9ece35-5bb4-4ee3-ad69-5faadb073daa",
   "metadata": {},
   "source": [
    "Erika"
   ]
  },
  {
   "cell_type": "code",
   "execution_count": null,
   "id": "923769f6-058c-4209-af8e-078016066e9b",
   "metadata": {},
   "outputs": [],
   "source": []
  },
  {
   "cell_type": "markdown",
   "id": "f246d335-8c7b-407e-b206-dea02c912d20",
   "metadata": {},
   "source": [
    "Khatia"
   ]
  },
  {
   "cell_type": "code",
   "execution_count": null,
   "id": "e4d280a5-e34f-47b9-b2e9-c505c9ad4835",
   "metadata": {},
   "outputs": [],
   "source": []
  }
 ],
 "metadata": {
  "kernelspec": {
   "display_name": "Python 3 (ipykernel)",
   "language": "python",
   "name": "python3"
  },
  "language_info": {
   "codemirror_mode": {
    "name": "ipython",
    "version": 3
   },
   "file_extension": ".py",
   "mimetype": "text/x-python",
   "name": "python",
   "nbconvert_exporter": "python",
   "pygments_lexer": "ipython3",
   "version": "3.12.2"
  }
 },
 "nbformat": 4,
 "nbformat_minor": 5
}
