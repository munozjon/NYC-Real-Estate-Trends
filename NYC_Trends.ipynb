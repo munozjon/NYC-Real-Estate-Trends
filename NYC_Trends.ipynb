{
 "cells": [
  {
   "cell_type": "code",
   "execution_count": 5,
   "id": "5249950e-707c-414c-9018-fb07089c85fd",
   "metadata": {},
   "outputs": [],
   "source": [
    "# Neighborhoods and zip codes - Provided by: https://www.nyc.gov/assets/doh/downloads/pdf/ah/zipcodetable.pdf\n",
    "neighborhood_zipcodes = {\"Washington Heights - Inwood\": [10031, 10032, 10033, 10034, 10040],\n",
    "\"Central Harlem - Morningside Heights\": [10026, 10027, 10030, 10037, 10039],\n",
    "\"East Harlem\": [10029, 10035],\n",
    "\"Upper West Side\": [10023, 10024, 10025],\n",
    "\"Upper East Side\": [10021, 10028, 10044, 10128],\n",
    "\"Chelsea - Clinton\": [10001, 10011, 10018, 10019, 10020, 10036],\n",
    "\"Gramercy Park - Murray Hill\": [10010, 10016, 10017, 10022],\n",
    "\"Greenwich Village - SoHo\": [10012, 10013, 10014],\n",
    "\"Union Square - Lower East Side\": [10002, 10003, 10009],\n",
    "\"Lower Manhattan\": [10004, 10005, 10006, 10007, 10038, 10280]}\n"
   ]
  },
  {
   "cell_type": "markdown",
   "id": "326071fe-42d7-4621-9071-e7083ca20884",
   "metadata": {},
   "source": [
    "Stephen"
   ]
  },
  {
   "cell_type": "code",
   "execution_count": null,
   "id": "8f1315db-2198-4d52-8256-f50896251daa",
   "metadata": {},
   "outputs": [],
   "source": []
  },
  {
   "cell_type": "markdown",
   "id": "6a083f76-bed5-4d6e-836a-a4a3c232a743",
   "metadata": {},
   "source": [
    "Jonathan"
   ]
  },
  {
   "cell_type": "code",
   "execution_count": null,
   "id": "82b877c5-e26b-442e-aa74-27d3a182f7ea",
   "metadata": {},
   "outputs": [],
   "source": []
  },
  {
   "cell_type": "markdown",
   "id": "dc9ece35-5bb4-4ee3-ad69-5faadb073daa",
   "metadata": {},
   "source": [
    "Erika"
   ]
  },
  {
   "cell_type": "code",
   "execution_count": null,
   "id": "923769f6-058c-4209-af8e-078016066e9b",
   "metadata": {},
   "outputs": [],
   "source": []
  },
  {
   "cell_type": "markdown",
   "id": "f246d335-8c7b-407e-b206-dea02c912d20",
   "metadata": {},
   "source": [
    "Khatia"
   ]
  },
  {
   "cell_type": "code",
   "execution_count": null,
   "id": "e4d280a5-e34f-47b9-b2e9-c505c9ad4835",
   "metadata": {},
   "outputs": [],
   "source": []
  }
 ],
 "metadata": {
  "kernelspec": {
   "display_name": "Python 3 (ipykernel)",
   "language": "python",
   "name": "python3"
  },
  "language_info": {
   "codemirror_mode": {
    "name": "ipython",
    "version": 3
   },
   "file_extension": ".py",
   "mimetype": "text/x-python",
   "name": "python",
   "nbconvert_exporter": "python",
   "pygments_lexer": "ipython3",
   "version": "3.12.2"
  }
 },
 "nbformat": 4,
 "nbformat_minor": 5
}
